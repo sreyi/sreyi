{
  "nbformat": 4,
  "nbformat_minor": 0,
  "metadata": {
    "colab": {
      "name": "Untitled2.ipynb",
      "provenance": [],
      "collapsed_sections": [],
      "authorship_tag": "ABX9TyNHSCVBAaZZzJNJk5GN9oee",
      "include_colab_link": true
    },
    "kernelspec": {
      "name": "python3",
      "display_name": "Python 3"
    },
    "language_info": {
      "name": "python"
    }
  },
  "cells": [
    {
      "cell_type": "markdown",
      "metadata": {
        "id": "view-in-github",
        "colab_type": "text"
      },
      "source": [
        "<a href=\"https://colab.research.google.com/github/sreyi/sreyi/blob/main/revision.ipynb\" target=\"_parent\"><img src=\"https://colab.research.google.com/assets/colab-badge.svg\" alt=\"Open In Colab\"/></a>"
      ]
    },
    {
      "cell_type": "markdown",
      "source": [
        "file handling\n"
      ],
      "metadata": {
        "id": "V7qOLA4k8hyt"
      }
    },
    {
      "cell_type": "code",
      "source": [
        "class rectangle:\n",
        "  def __init__(self):\n",
        "    self.l=l\n",
        "    self.b=b\n",
        "  def area(self):\n",
        "    return self.l*self.b\n",
        "  def perimeter(self):\n",
        "    return 2*(self.l+self.b)\n",
        "  def __str__(self):\n",
        "    c=\"area-{} perimeter-{}\".format(self.area(),self.perimeter())\n",
        "    return c\n",
        "f=open(\"text.txt\",\"w\")\n",
        "n=int(input(\"enter the no of testcases\"))\n",
        "if __name__==\"__main__\":\n",
        "  for i in range(n):\n",
        "    l=int(input('enter length'))\n",
        "    b=int(input(\"enter breadth\"))\n",
        "    m=rectangle()\n",
        "    f.write(str(m))\n",
        "f.close()\n"
      ],
      "metadata": {
        "colab": {
          "base_uri": "https://localhost:8080/"
        },
        "id": "T6l7Ys9A8juS",
        "outputId": "bf00c040-3fa3-4982-86f3-6e9456cb1f54"
      },
      "execution_count": 4,
      "outputs": [
        {
          "name": "stdout",
          "output_type": "stream",
          "text": [
            "enter the no of testcases2\n",
            "enter length1\n",
            "enter breadth7\n",
            "enter length8\n",
            "enter breadth4\n"
          ]
        }
      ]
    }
  ]
}